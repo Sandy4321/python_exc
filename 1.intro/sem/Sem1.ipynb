{
 "metadata": {
  "name": "",
  "signature": "sha256:ea2063173f8fdb3039d4180bb98e3df6373ca13bce859c04ac25a2388fca7f80"
 },
 "nbformat": 3,
 "nbformat_minor": 0,
 "worksheets": [
  {
   "cells": [
    {
     "cell_type": "heading",
     "level": 4,
     "metadata": {},
     "source": [
      "FizzBuzz"
     ]
    },
    {
     "cell_type": "code",
     "collapsed": false,
     "input": [
      "def fizz_buzz(count=20):\n",
      "    for i in range(1, count):\n",
      "        \n",
      "        if not i % 3:\n",
      "            print 'Fizz'\n",
      "            \n",
      "        elif not i % 5:\n",
      "            print 'Buzz'\n",
      "            \n",
      "        elif not i % 15:\n",
      "            print 'FizzBuzz'\n",
      "        \n",
      "        else:\n",
      "            print i\n",
      "\n",
      "fizz_buzz()"
     ],
     "language": "python",
     "metadata": {},
     "outputs": [
      {
       "output_type": "stream",
       "stream": "stdout",
       "text": [
        "1\n",
        "2\n",
        "Fizz\n",
        "4\n",
        "Buzz\n",
        "Fizz\n",
        "7\n",
        "8\n",
        "Fizz\n",
        "Buzz\n",
        "11\n",
        "Fizz\n",
        "13\n",
        "14\n",
        "Fizz\n",
        "16\n",
        "17\n",
        "Fizz\n",
        "19\n"
       ]
      }
     ],
     "prompt_number": 4
    },
    {
     "cell_type": "markdown",
     "metadata": {},
     "source": [
      "#### \u0421\u0447\u0430\u0441\u0442\u043b\u0438\u0432\u044b\u0435 \u0447\u0438\u0441\u043b\u0430\n",
      "\u0432 \u0440\u0435\u0448\u0435\u043d\u0438\u0438 \u0438\u0441\u043f\u043e\u043b\u044c\u0437\u043e\u0432\u0430\u043d\u0430 \u0444\u0443\u043d\u043a\u0446\u0438\u044f map, \u043a\u043e\u0442\u043e\u0440\u0430\u044f \u0441\u0438\u043b\u044c\u043d\u043e \u0443\u043f\u0440\u043e\u0449\u0430\u0435\u0442 \u043a\u043e\u0434. \u041e \u043d\u0435\u0439 \u043f\u043e\u0433\u043e\u0432\u043e\u0440\u0438\u043c \u043d\u0430 \u043e\u0434\u043d\u043e\u0439 \u0438\u0437 \u0441\u043b\u0435\u0434\u0443\u044e\u0449\u0438\u0445 \u043b\u0435\u043a\u0446\u0438\u0439"
     ]
    },
    {
     "cell_type": "code",
     "collapsed": false,
     "input": [
      "def is_happy(number):\n",
      "    digits = map(int, str(number))\n",
      "    return sum(digits[:3]) == sum(digits[3:])\n",
      "\n",
      "def closest_happy(number):\n",
      "    left = right = number\n",
      "    while True:\n",
      "        if left > 0 and is_happy(left):\n",
      "            return left\n",
      "        \n",
      "        if right < 1000000 and is_happy(right):\n",
      "            return right \n",
      "        \n",
      "        left  -= 1\n",
      "        right += 1\n",
      "\n",
      "closest_happy(100999)\n",
      "    "
     ],
     "language": "python",
     "metadata": {},
     "outputs": [
      {
       "metadata": {},
       "output_type": "pyout",
       "prompt_number": 6,
       "text": [
        "101002"
       ]
      }
     ],
     "prompt_number": 6
    },
    {
     "cell_type": "markdown",
     "metadata": {},
     "source": [
      "#### \u0410\u043b\u0433\u043e\u0440\u0438\u0442\u043c \u0415\u0432\u043a\u043b\u0438\u0434\u0430 \u0432 \u043e\u0434\u043d\u0443 \u0441\u0442\u0440\u043e\u0447\u043a\u0443"
     ]
    },
    {
     "cell_type": "code",
     "collapsed": false,
     "input": [
      "def gcd(a, b):\n",
      "    return gcd(b, a % b) if b != 0 else a\n",
      "\n",
      "gcd(124, 16)"
     ],
     "language": "python",
     "metadata": {},
     "outputs": [
      {
       "metadata": {},
       "output_type": "pyout",
       "prompt_number": 8,
       "text": [
        "4"
       ]
      }
     ],
     "prompt_number": 8
    },
    {
     "cell_type": "markdown",
     "metadata": {},
     "source": [
      "#### \u0420\u0430\u0437\u043c\u0435\u043d \u043c\u043e\u043d\u0435\u0442\u043e\u043a\n",
      "\u041f\u0440\u0438\u0432\u0438\u0434\u0435\u043d\u043e \u0440\u0435\u0448\u0435\u043d\u0438\u0435 \u0437\u0430 O(1), \u043c\u043e\u0436\u043d\u043e \u0440\u0435\u0448\u0438\u0442\u044c \u0438\u0437 \u0437\u0430 o(n) \u0438 \u0437\u0430 O(n ^ 2)"
     ]
    },
    {
     "cell_type": "code",
     "collapsed": false,
     "input": [
      "def split(a):\n",
      "    residue = a % 10\n",
      "    if residue > 5:\n",
      "        return (2 + 2 * (1 + a / 10)) / 2 * (1 + a / 10)\n",
      "    if residue < 5:\n",
      "        return (2 + 2 * a / 10) / 2 * (1 + a / 10)\n",
      "    \n",
      "split(36)"
     ],
     "language": "python",
     "metadata": {},
     "outputs": [
      {
       "metadata": {},
       "output_type": "pyout",
       "prompt_number": 45,
       "text": [
        "20"
       ]
      }
     ],
     "prompt_number": 45
    }
   ],
   "metadata": {}
  }
 ]
}